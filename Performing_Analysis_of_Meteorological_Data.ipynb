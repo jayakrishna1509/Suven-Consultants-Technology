{
  "nbformat": 4,
  "nbformat_minor": 0,
  "metadata": {
    "kernelspec": {
      "display_name": "Python 3",
      "language": "python",
      "name": "python3"
    },
    "language_info": {
      "codemirror_mode": {
        "name": "ipython",
        "version": 3
      },
      "file_extension": ".py",
      "mimetype": "text/x-python",
      "name": "python",
      "nbconvert_exporter": "python",
      "pygments_lexer": "ipython3",
      "version": "3.7.6"
    },
    "colab": {
      "name": "Performing Analysis of Meteorological Data.ipynb",
      "provenance": []
    }
  },
  "cells": [
    {
      "cell_type": "markdown",
      "metadata": {
        "id": "iIZxd-O_ceLD"
      },
      "source": [
        "NAME: PILLAGOLLA JAYAKRISHNA\n",
        "\n",
        "GMAIL ID:jayakrishnap05789@gmail.com"
      ]
    },
    {
      "cell_type": "markdown",
      "metadata": {
        "id": "5xWH7XtRcDO_"
      },
      "source": [
        "##Project-1:- Performing Analysis of Meteorological Data"
      ]
    },
    {
      "cell_type": "markdown",
      "metadata": {
        "id": "X5Z-nksmcDPB"
      },
      "source": [
        "In this blog we are to perform analysis on the given 'WeatherHistory' dataset for testing the hypothesis and finally put-forth the conclusion.\n",
        "The Null Hypothesis is \"Has the Apparent temperature and humidity compared monthly across 10 years of the data indicate an increase due to Global Warming\".\n",
        "We need to find whether the average Apparent Temperature for a month say April starting from year 2006 to 2016 and the average Humidity for the same period has increased or not. \n",
        "This monthly analysis has to be done for all 12 months over the 10 year period. \n",
        "So we're basically resampling our data from hourly to monthly, then comparing the same month over the 10 year period. \n",
        "Also we have to support our analysis by appropriate visualizations."
      ]
    },
    {
      "cell_type": "markdown",
      "metadata": {
        "id": "_ymI_jXPcDPC"
      },
      "source": [
        "Required Python libraries for the analysis are NumPy, Pandas & Matplotlib"
      ]
    },
    {
      "cell_type": "markdown",
      "metadata": {
        "id": "6D65j8A_cDPC"
      },
      "source": [
        "The dataset can be downloaded from Kaggle - (Source URL: https://www.kaggle.com/muthuj7/weather-dataset)."
      ]
    },
    {
      "cell_type": "code",
      "metadata": {
        "id": "r8d7gjXqcDPD"
      },
      "source": [
        "import warnings\n",
        "warnings.simplefilter('ignore')"
      ],
      "execution_count": 56,
      "outputs": []
    },
    {
      "cell_type": "markdown",
      "metadata": {
        "id": "OaTgJxbvcDPD"
      },
      "source": [
        "## Importing required libraries"
      ]
    },
    {
      "cell_type": "code",
      "metadata": {
        "id": "s59lbarscDPE"
      },
      "source": [
        "import numpy as np\n",
        "import pandas as pd\n",
        "import matplotlib.pyplot as plt\n",
        "\n",
        "%matplotlib inline"
      ],
      "execution_count": 57,
      "outputs": []
    },
    {
      "cell_type": "markdown",
      "metadata": {
        "id": "tOX8VkmBcDPE"
      },
      "source": [
        "## Loading the dataset"
      ]
    },
    {
      "cell_type": "markdown",
      "metadata": {
        "id": "ydnzEMu3cDPF"
      },
      "source": [
        "We will use our 'Formatted Date' column as the index."
      ]
    },
    {
      "cell_type": "code",
      "metadata": {
        "id": "BPcMDZ8rcDPF"
      },
      "source": [
        "dataset = pd.read_csv('WeatherHistory.csv', index_col='Formatted Date')"
      ],
      "execution_count": 58,
      "outputs": []
    },
    {
      "cell_type": "markdown",
      "metadata": {
        "id": "RLR23YhpcDPG"
      },
      "source": [
        "## Performing EDA"
      ]
    },
    {
      "cell_type": "code",
      "metadata": {
        "colab": {
          "base_uri": "https://localhost:8080/",
          "height": 334
        },
        "id": "1VndSAYlcDPG",
        "outputId": "e7e0f532-97d0-45de-d2d1-29c1cd64ce08"
      },
      "source": [
        "df = dataset.copy()\n",
        "df.head()"
      ],
      "execution_count": 59,
      "outputs": [
        {
          "output_type": "execute_result",
          "data": {
            "text/html": [
              "<div>\n",
              "<style scoped>\n",
              "    .dataframe tbody tr th:only-of-type {\n",
              "        vertical-align: middle;\n",
              "    }\n",
              "\n",
              "    .dataframe tbody tr th {\n",
              "        vertical-align: top;\n",
              "    }\n",
              "\n",
              "    .dataframe thead th {\n",
              "        text-align: right;\n",
              "    }\n",
              "</style>\n",
              "<table border=\"1\" class=\"dataframe\">\n",
              "  <thead>\n",
              "    <tr style=\"text-align: right;\">\n",
              "      <th></th>\n",
              "      <th>Summary</th>\n",
              "      <th>Precip Type</th>\n",
              "      <th>Temperature (C)</th>\n",
              "      <th>Apparent Temperature (C)</th>\n",
              "      <th>Humidity</th>\n",
              "      <th>Wind Speed (km/h)</th>\n",
              "      <th>Wind Bearing (degrees)</th>\n",
              "      <th>Visibility (km)</th>\n",
              "      <th>Loud Cover</th>\n",
              "      <th>Pressure (millibars)</th>\n",
              "      <th>Daily Summary</th>\n",
              "    </tr>\n",
              "    <tr>\n",
              "      <th>Formatted Date</th>\n",
              "      <th></th>\n",
              "      <th></th>\n",
              "      <th></th>\n",
              "      <th></th>\n",
              "      <th></th>\n",
              "      <th></th>\n",
              "      <th></th>\n",
              "      <th></th>\n",
              "      <th></th>\n",
              "      <th></th>\n",
              "      <th></th>\n",
              "    </tr>\n",
              "  </thead>\n",
              "  <tbody>\n",
              "    <tr>\n",
              "      <th>2006-04-01 00:00:00.000 +0200</th>\n",
              "      <td>Partly Cloudy</td>\n",
              "      <td>rain</td>\n",
              "      <td>9.472222</td>\n",
              "      <td>7.388889</td>\n",
              "      <td>0.89</td>\n",
              "      <td>14.1197</td>\n",
              "      <td>251.0</td>\n",
              "      <td>15.8263</td>\n",
              "      <td>0.0</td>\n",
              "      <td>1015.13</td>\n",
              "      <td>Partly cloudy throughout the day.</td>\n",
              "    </tr>\n",
              "    <tr>\n",
              "      <th>2006-04-01 01:00:00.000 +0200</th>\n",
              "      <td>Partly Cloudy</td>\n",
              "      <td>rain</td>\n",
              "      <td>9.355556</td>\n",
              "      <td>7.227778</td>\n",
              "      <td>0.86</td>\n",
              "      <td>14.2646</td>\n",
              "      <td>259.0</td>\n",
              "      <td>15.8263</td>\n",
              "      <td>0.0</td>\n",
              "      <td>1015.63</td>\n",
              "      <td>Partly cloudy throughout the day.</td>\n",
              "    </tr>\n",
              "    <tr>\n",
              "      <th>2006-04-01 02:00:00.000 +0200</th>\n",
              "      <td>Mostly Cloudy</td>\n",
              "      <td>rain</td>\n",
              "      <td>9.377778</td>\n",
              "      <td>9.377778</td>\n",
              "      <td>0.89</td>\n",
              "      <td>3.9284</td>\n",
              "      <td>204.0</td>\n",
              "      <td>14.9569</td>\n",
              "      <td>0.0</td>\n",
              "      <td>1015.94</td>\n",
              "      <td>Partly cloudy throughout the day.</td>\n",
              "    </tr>\n",
              "    <tr>\n",
              "      <th>2006-04-01 03:00:00.000 +0200</th>\n",
              "      <td>Partly Cloudy</td>\n",
              "      <td>rain</td>\n",
              "      <td>8.288889</td>\n",
              "      <td>5.944444</td>\n",
              "      <td>0.83</td>\n",
              "      <td>14.1036</td>\n",
              "      <td>269.0</td>\n",
              "      <td>15.8263</td>\n",
              "      <td>0.0</td>\n",
              "      <td>1016.41</td>\n",
              "      <td>Partly cloudy throughout the day.</td>\n",
              "    </tr>\n",
              "    <tr>\n",
              "      <th>2006-04-01 04:00:00.000 +0200</th>\n",
              "      <td>Mostly Cloudy</td>\n",
              "      <td>rain</td>\n",
              "      <td>8.755556</td>\n",
              "      <td>6.977778</td>\n",
              "      <td>0.83</td>\n",
              "      <td>11.0446</td>\n",
              "      <td>259.0</td>\n",
              "      <td>15.8263</td>\n",
              "      <td>0.0</td>\n",
              "      <td>1016.51</td>\n",
              "      <td>Partly cloudy throughout the day.</td>\n",
              "    </tr>\n",
              "  </tbody>\n",
              "</table>\n",
              "</div>"
            ],
            "text/plain": [
              "                                     Summary  ...                      Daily Summary\n",
              "Formatted Date                                ...                                   \n",
              "2006-04-01 00:00:00.000 +0200  Partly Cloudy  ...  Partly cloudy throughout the day.\n",
              "2006-04-01 01:00:00.000 +0200  Partly Cloudy  ...  Partly cloudy throughout the day.\n",
              "2006-04-01 02:00:00.000 +0200  Mostly Cloudy  ...  Partly cloudy throughout the day.\n",
              "2006-04-01 03:00:00.000 +0200  Partly Cloudy  ...  Partly cloudy throughout the day.\n",
              "2006-04-01 04:00:00.000 +0200  Mostly Cloudy  ...  Partly cloudy throughout the day.\n",
              "\n",
              "[5 rows x 11 columns]"
            ]
          },
          "metadata": {
            "tags": []
          },
          "execution_count": 59
        }
      ]
    },
    {
      "cell_type": "code",
      "metadata": {
        "colab": {
          "base_uri": "https://localhost:8080/",
          "height": 334
        },
        "id": "YAhWk6MeeIzx",
        "outputId": "dbf6a11c-2b11-41bb-b29e-90971a80b347"
      },
      "source": [
        "df.tail()"
      ],
      "execution_count": 60,
      "outputs": [
        {
          "output_type": "execute_result",
          "data": {
            "text/html": [
              "<div>\n",
              "<style scoped>\n",
              "    .dataframe tbody tr th:only-of-type {\n",
              "        vertical-align: middle;\n",
              "    }\n",
              "\n",
              "    .dataframe tbody tr th {\n",
              "        vertical-align: top;\n",
              "    }\n",
              "\n",
              "    .dataframe thead th {\n",
              "        text-align: right;\n",
              "    }\n",
              "</style>\n",
              "<table border=\"1\" class=\"dataframe\">\n",
              "  <thead>\n",
              "    <tr style=\"text-align: right;\">\n",
              "      <th></th>\n",
              "      <th>Summary</th>\n",
              "      <th>Precip Type</th>\n",
              "      <th>Temperature (C)</th>\n",
              "      <th>Apparent Temperature (C)</th>\n",
              "      <th>Humidity</th>\n",
              "      <th>Wind Speed (km/h)</th>\n",
              "      <th>Wind Bearing (degrees)</th>\n",
              "      <th>Visibility (km)</th>\n",
              "      <th>Loud Cover</th>\n",
              "      <th>Pressure (millibars)</th>\n",
              "      <th>Daily Summary</th>\n",
              "    </tr>\n",
              "    <tr>\n",
              "      <th>Formatted Date</th>\n",
              "      <th></th>\n",
              "      <th></th>\n",
              "      <th></th>\n",
              "      <th></th>\n",
              "      <th></th>\n",
              "      <th></th>\n",
              "      <th></th>\n",
              "      <th></th>\n",
              "      <th></th>\n",
              "      <th></th>\n",
              "      <th></th>\n",
              "    </tr>\n",
              "  </thead>\n",
              "  <tbody>\n",
              "    <tr>\n",
              "      <th>2016-09-09 19:00:00.000 +0200</th>\n",
              "      <td>Partly Cloudy</td>\n",
              "      <td>rain</td>\n",
              "      <td>26.016667</td>\n",
              "      <td>26.016667</td>\n",
              "      <td>0.43</td>\n",
              "      <td>10.9963</td>\n",
              "      <td>31.0</td>\n",
              "      <td>16.1000</td>\n",
              "      <td>0.0</td>\n",
              "      <td>1014.36</td>\n",
              "      <td>Partly cloudy starting in the morning.</td>\n",
              "    </tr>\n",
              "    <tr>\n",
              "      <th>2016-09-09 20:00:00.000 +0200</th>\n",
              "      <td>Partly Cloudy</td>\n",
              "      <td>rain</td>\n",
              "      <td>24.583333</td>\n",
              "      <td>24.583333</td>\n",
              "      <td>0.48</td>\n",
              "      <td>10.0947</td>\n",
              "      <td>20.0</td>\n",
              "      <td>15.5526</td>\n",
              "      <td>0.0</td>\n",
              "      <td>1015.16</td>\n",
              "      <td>Partly cloudy starting in the morning.</td>\n",
              "    </tr>\n",
              "    <tr>\n",
              "      <th>2016-09-09 21:00:00.000 +0200</th>\n",
              "      <td>Partly Cloudy</td>\n",
              "      <td>rain</td>\n",
              "      <td>22.038889</td>\n",
              "      <td>22.038889</td>\n",
              "      <td>0.56</td>\n",
              "      <td>8.9838</td>\n",
              "      <td>30.0</td>\n",
              "      <td>16.1000</td>\n",
              "      <td>0.0</td>\n",
              "      <td>1015.66</td>\n",
              "      <td>Partly cloudy starting in the morning.</td>\n",
              "    </tr>\n",
              "    <tr>\n",
              "      <th>2016-09-09 22:00:00.000 +0200</th>\n",
              "      <td>Partly Cloudy</td>\n",
              "      <td>rain</td>\n",
              "      <td>21.522222</td>\n",
              "      <td>21.522222</td>\n",
              "      <td>0.60</td>\n",
              "      <td>10.5294</td>\n",
              "      <td>20.0</td>\n",
              "      <td>16.1000</td>\n",
              "      <td>0.0</td>\n",
              "      <td>1015.95</td>\n",
              "      <td>Partly cloudy starting in the morning.</td>\n",
              "    </tr>\n",
              "    <tr>\n",
              "      <th>2016-09-09 23:00:00.000 +0200</th>\n",
              "      <td>Partly Cloudy</td>\n",
              "      <td>rain</td>\n",
              "      <td>20.438889</td>\n",
              "      <td>20.438889</td>\n",
              "      <td>0.61</td>\n",
              "      <td>5.8765</td>\n",
              "      <td>39.0</td>\n",
              "      <td>15.5204</td>\n",
              "      <td>0.0</td>\n",
              "      <td>1016.16</td>\n",
              "      <td>Partly cloudy starting in the morning.</td>\n",
              "    </tr>\n",
              "  </tbody>\n",
              "</table>\n",
              "</div>"
            ],
            "text/plain": [
              "                                     Summary  ...                           Daily Summary\n",
              "Formatted Date                                ...                                        \n",
              "2016-09-09 19:00:00.000 +0200  Partly Cloudy  ...  Partly cloudy starting in the morning.\n",
              "2016-09-09 20:00:00.000 +0200  Partly Cloudy  ...  Partly cloudy starting in the morning.\n",
              "2016-09-09 21:00:00.000 +0200  Partly Cloudy  ...  Partly cloudy starting in the morning.\n",
              "2016-09-09 22:00:00.000 +0200  Partly Cloudy  ...  Partly cloudy starting in the morning.\n",
              "2016-09-09 23:00:00.000 +0200  Partly Cloudy  ...  Partly cloudy starting in the morning.\n",
              "\n",
              "[5 rows x 11 columns]"
            ]
          },
          "metadata": {
            "tags": []
          },
          "execution_count": 60
        }
      ]
    },
    {
      "cell_type": "code",
      "metadata": {
        "colab": {
          "base_uri": "https://localhost:8080/"
        },
        "id": "rGffXYxgcDPH",
        "outputId": "d527fdc7-ec58-4d15-9671-62f23dc37353"
      },
      "source": [
        "df.shape"
      ],
      "execution_count": 61,
      "outputs": [
        {
          "output_type": "execute_result",
          "data": {
            "text/plain": [
              "(96453, 11)"
            ]
          },
          "metadata": {
            "tags": []
          },
          "execution_count": 61
        }
      ]
    },
    {
      "cell_type": "code",
      "metadata": {
        "colab": {
          "base_uri": "https://localhost:8080/"
        },
        "id": "9XdcQLrGeTXz",
        "outputId": "92e594a4-f625-4248-f1db-f8614883036a"
      },
      "source": [
        "df.columns"
      ],
      "execution_count": 62,
      "outputs": [
        {
          "output_type": "execute_result",
          "data": {
            "text/plain": [
              "Index(['Summary', 'Precip Type', 'Temperature (C)', 'Apparent Temperature (C)',\n",
              "       'Humidity', 'Wind Speed (km/h)', 'Wind Bearing (degrees)',\n",
              "       'Visibility (km)', 'Loud Cover', 'Pressure (millibars)',\n",
              "       'Daily Summary'],\n",
              "      dtype='object')"
            ]
          },
          "metadata": {
            "tags": []
          },
          "execution_count": 62
        }
      ]
    },
    {
      "cell_type": "code",
      "metadata": {
        "colab": {
          "base_uri": "https://localhost:8080/"
        },
        "id": "1cnl4xP1eYVS",
        "outputId": "7991f314-ea04-4c8a-e869-0cfd3920777b"
      },
      "source": [
        "df.var()"
      ],
      "execution_count": 63,
      "outputs": [
        {
          "output_type": "execute_result",
          "data": {
            "text/plain": [
              "Temperature (C)                91.232037\n",
              "Apparent Temperature (C)      114.422544\n",
              "Humidity                        0.038210\n",
              "Wind Speed (km/h)              47.797464\n",
              "Wind Bearing (degrees)      11531.200691\n",
              "Visibility (km)                17.573897\n",
              "Loud Cover                      0.000000\n",
              "Pressure (millibars)        13681.958835\n",
              "dtype: float64"
            ]
          },
          "metadata": {
            "tags": []
          },
          "execution_count": 63
        }
      ]
    },
    {
      "cell_type": "code",
      "metadata": {
        "colab": {
          "base_uri": "https://localhost:8080/"
        },
        "id": "G0TA6_FYemVS",
        "outputId": "162f9cd5-9815-4608-a31f-a44f678f7cf3"
      },
      "source": [
        "df.std()"
      ],
      "execution_count": 64,
      "outputs": [
        {
          "output_type": "execute_result",
          "data": {
            "text/plain": [
              "Temperature (C)               9.551546\n",
              "Apparent Temperature (C)     10.696847\n",
              "Humidity                      0.195473\n",
              "Wind Speed (km/h)             6.913571\n",
              "Wind Bearing (degrees)      107.383428\n",
              "Visibility (km)               4.192123\n",
              "Loud Cover                    0.000000\n",
              "Pressure (millibars)        116.969906\n",
              "dtype: float64"
            ]
          },
          "metadata": {
            "tags": []
          },
          "execution_count": 64
        }
      ]
    },
    {
      "cell_type": "code",
      "metadata": {
        "colab": {
          "base_uri": "https://localhost:8080/"
        },
        "id": "g6l_JVILeq7U",
        "outputId": "608d742a-bd82-4294-a9e2-143cf7468f03"
      },
      "source": [
        "df.kurtosis"
      ],
      "execution_count": 65,
      "outputs": [
        {
          "output_type": "execute_result",
          "data": {
            "text/plain": [
              "<bound method DataFrame.kurt of                                      Summary  ...                           Daily Summary\n",
              "Formatted Date                                ...                                        \n",
              "2006-04-01 00:00:00.000 +0200  Partly Cloudy  ...       Partly cloudy throughout the day.\n",
              "2006-04-01 01:00:00.000 +0200  Partly Cloudy  ...       Partly cloudy throughout the day.\n",
              "2006-04-01 02:00:00.000 +0200  Mostly Cloudy  ...       Partly cloudy throughout the day.\n",
              "2006-04-01 03:00:00.000 +0200  Partly Cloudy  ...       Partly cloudy throughout the day.\n",
              "2006-04-01 04:00:00.000 +0200  Mostly Cloudy  ...       Partly cloudy throughout the day.\n",
              "...                                      ...  ...                                     ...\n",
              "2016-09-09 19:00:00.000 +0200  Partly Cloudy  ...  Partly cloudy starting in the morning.\n",
              "2016-09-09 20:00:00.000 +0200  Partly Cloudy  ...  Partly cloudy starting in the morning.\n",
              "2016-09-09 21:00:00.000 +0200  Partly Cloudy  ...  Partly cloudy starting in the morning.\n",
              "2016-09-09 22:00:00.000 +0200  Partly Cloudy  ...  Partly cloudy starting in the morning.\n",
              "2016-09-09 23:00:00.000 +0200  Partly Cloudy  ...  Partly cloudy starting in the morning.\n",
              "\n",
              "[96453 rows x 11 columns]>"
            ]
          },
          "metadata": {
            "tags": []
          },
          "execution_count": 65
        }
      ]
    },
    {
      "cell_type": "code",
      "metadata": {
        "colab": {
          "base_uri": "https://localhost:8080/"
        },
        "id": "b2ZXdj6qe4-s",
        "outputId": "2756aced-90bc-474d-c4a9-a46065e63961"
      },
      "source": [
        "df.count()"
      ],
      "execution_count": 66,
      "outputs": [
        {
          "output_type": "execute_result",
          "data": {
            "text/plain": [
              "Summary                     96453\n",
              "Precip Type                 95936\n",
              "Temperature (C)             96453\n",
              "Apparent Temperature (C)    96453\n",
              "Humidity                    96453\n",
              "Wind Speed (km/h)           96453\n",
              "Wind Bearing (degrees)      96453\n",
              "Visibility (km)             96453\n",
              "Loud Cover                  96453\n",
              "Pressure (millibars)        96453\n",
              "Daily Summary               96453\n",
              "dtype: int64"
            ]
          },
          "metadata": {
            "tags": []
          },
          "execution_count": 66
        }
      ]
    },
    {
      "cell_type": "code",
      "metadata": {
        "colab": {
          "base_uri": "https://localhost:8080/"
        },
        "id": "mSAGRZhXe8wS",
        "outputId": "c8e69ee7-c652-4295-c3f7-0961b74bdd25"
      },
      "source": [
        "df.isnull().sum()"
      ],
      "execution_count": 67,
      "outputs": [
        {
          "output_type": "execute_result",
          "data": {
            "text/plain": [
              "Summary                       0\n",
              "Precip Type                 517\n",
              "Temperature (C)               0\n",
              "Apparent Temperature (C)      0\n",
              "Humidity                      0\n",
              "Wind Speed (km/h)             0\n",
              "Wind Bearing (degrees)        0\n",
              "Visibility (km)               0\n",
              "Loud Cover                    0\n",
              "Pressure (millibars)          0\n",
              "Daily Summary                 0\n",
              "dtype: int64"
            ]
          },
          "metadata": {
            "tags": []
          },
          "execution_count": 67
        }
      ]
    },
    {
      "cell_type": "code",
      "metadata": {
        "colab": {
          "base_uri": "https://localhost:8080/"
        },
        "id": "xroBQ3nZfAOO",
        "outputId": "006b1ee5-6024-46e6-9f17-6847fba185eb"
      },
      "source": [
        "df.nunique()"
      ],
      "execution_count": 68,
      "outputs": [
        {
          "output_type": "execute_result",
          "data": {
            "text/plain": [
              "Summary                       27\n",
              "Precip Type                    2\n",
              "Temperature (C)             7574\n",
              "Apparent Temperature (C)    8984\n",
              "Humidity                      90\n",
              "Wind Speed (km/h)           2484\n",
              "Wind Bearing (degrees)       360\n",
              "Visibility (km)              949\n",
              "Loud Cover                     1\n",
              "Pressure (millibars)        4979\n",
              "Daily Summary                214\n",
              "dtype: int64"
            ]
          },
          "metadata": {
            "tags": []
          },
          "execution_count": 68
        }
      ]
    },
    {
      "cell_type": "code",
      "metadata": {
        "colab": {
          "base_uri": "https://localhost:8080/"
        },
        "id": "KgfWujowcDPH",
        "outputId": "c6130c4d-d98b-4523-a9d7-6d74c1c8189f"
      },
      "source": [
        "df.info()"
      ],
      "execution_count": 69,
      "outputs": [
        {
          "output_type": "stream",
          "text": [
            "<class 'pandas.core.frame.DataFrame'>\n",
            "Index: 96453 entries, 2006-04-01 00:00:00.000 +0200 to 2016-09-09 23:00:00.000 +0200\n",
            "Data columns (total 11 columns):\n",
            " #   Column                    Non-Null Count  Dtype  \n",
            "---  ------                    --------------  -----  \n",
            " 0   Summary                   96453 non-null  object \n",
            " 1   Precip Type               95936 non-null  object \n",
            " 2   Temperature (C)           96453 non-null  float64\n",
            " 3   Apparent Temperature (C)  96453 non-null  float64\n",
            " 4   Humidity                  96453 non-null  float64\n",
            " 5   Wind Speed (km/h)         96453 non-null  float64\n",
            " 6   Wind Bearing (degrees)    96453 non-null  float64\n",
            " 7   Visibility (km)           96453 non-null  float64\n",
            " 8   Loud Cover                96453 non-null  float64\n",
            " 9   Pressure (millibars)      96453 non-null  float64\n",
            " 10  Daily Summary             96453 non-null  object \n",
            "dtypes: float64(8), object(3)\n",
            "memory usage: 8.8+ MB\n"
          ],
          "name": "stdout"
        }
      ]
    },
    {
      "cell_type": "code",
      "metadata": {
        "colab": {
          "base_uri": "https://localhost:8080/",
          "height": 295
        },
        "id": "7jZwh2FAcDPI",
        "outputId": "55e3d083-c23e-4ac1-a90a-65b10932e880"
      },
      "source": [
        "df.describe()"
      ],
      "execution_count": 70,
      "outputs": [
        {
          "output_type": "execute_result",
          "data": {
            "text/html": [
              "<div>\n",
              "<style scoped>\n",
              "    .dataframe tbody tr th:only-of-type {\n",
              "        vertical-align: middle;\n",
              "    }\n",
              "\n",
              "    .dataframe tbody tr th {\n",
              "        vertical-align: top;\n",
              "    }\n",
              "\n",
              "    .dataframe thead th {\n",
              "        text-align: right;\n",
              "    }\n",
              "</style>\n",
              "<table border=\"1\" class=\"dataframe\">\n",
              "  <thead>\n",
              "    <tr style=\"text-align: right;\">\n",
              "      <th></th>\n",
              "      <th>Temperature (C)</th>\n",
              "      <th>Apparent Temperature (C)</th>\n",
              "      <th>Humidity</th>\n",
              "      <th>Wind Speed (km/h)</th>\n",
              "      <th>Wind Bearing (degrees)</th>\n",
              "      <th>Visibility (km)</th>\n",
              "      <th>Loud Cover</th>\n",
              "      <th>Pressure (millibars)</th>\n",
              "    </tr>\n",
              "  </thead>\n",
              "  <tbody>\n",
              "    <tr>\n",
              "      <th>count</th>\n",
              "      <td>96453.000000</td>\n",
              "      <td>96453.000000</td>\n",
              "      <td>96453.000000</td>\n",
              "      <td>96453.000000</td>\n",
              "      <td>96453.000000</td>\n",
              "      <td>96453.000000</td>\n",
              "      <td>96453.0</td>\n",
              "      <td>96453.000000</td>\n",
              "    </tr>\n",
              "    <tr>\n",
              "      <th>mean</th>\n",
              "      <td>11.932678</td>\n",
              "      <td>10.855029</td>\n",
              "      <td>0.734899</td>\n",
              "      <td>10.810640</td>\n",
              "      <td>187.509232</td>\n",
              "      <td>10.347325</td>\n",
              "      <td>0.0</td>\n",
              "      <td>1003.235956</td>\n",
              "    </tr>\n",
              "    <tr>\n",
              "      <th>std</th>\n",
              "      <td>9.551546</td>\n",
              "      <td>10.696847</td>\n",
              "      <td>0.195473</td>\n",
              "      <td>6.913571</td>\n",
              "      <td>107.383428</td>\n",
              "      <td>4.192123</td>\n",
              "      <td>0.0</td>\n",
              "      <td>116.969906</td>\n",
              "    </tr>\n",
              "    <tr>\n",
              "      <th>min</th>\n",
              "      <td>-21.822222</td>\n",
              "      <td>-27.716667</td>\n",
              "      <td>0.000000</td>\n",
              "      <td>0.000000</td>\n",
              "      <td>0.000000</td>\n",
              "      <td>0.000000</td>\n",
              "      <td>0.0</td>\n",
              "      <td>0.000000</td>\n",
              "    </tr>\n",
              "    <tr>\n",
              "      <th>25%</th>\n",
              "      <td>4.688889</td>\n",
              "      <td>2.311111</td>\n",
              "      <td>0.600000</td>\n",
              "      <td>5.828200</td>\n",
              "      <td>116.000000</td>\n",
              "      <td>8.339800</td>\n",
              "      <td>0.0</td>\n",
              "      <td>1011.900000</td>\n",
              "    </tr>\n",
              "    <tr>\n",
              "      <th>50%</th>\n",
              "      <td>12.000000</td>\n",
              "      <td>12.000000</td>\n",
              "      <td>0.780000</td>\n",
              "      <td>9.965900</td>\n",
              "      <td>180.000000</td>\n",
              "      <td>10.046400</td>\n",
              "      <td>0.0</td>\n",
              "      <td>1016.450000</td>\n",
              "    </tr>\n",
              "    <tr>\n",
              "      <th>75%</th>\n",
              "      <td>18.838889</td>\n",
              "      <td>18.838889</td>\n",
              "      <td>0.890000</td>\n",
              "      <td>14.135800</td>\n",
              "      <td>290.000000</td>\n",
              "      <td>14.812000</td>\n",
              "      <td>0.0</td>\n",
              "      <td>1021.090000</td>\n",
              "    </tr>\n",
              "    <tr>\n",
              "      <th>max</th>\n",
              "      <td>39.905556</td>\n",
              "      <td>39.344444</td>\n",
              "      <td>1.000000</td>\n",
              "      <td>63.852600</td>\n",
              "      <td>359.000000</td>\n",
              "      <td>16.100000</td>\n",
              "      <td>0.0</td>\n",
              "      <td>1046.380000</td>\n",
              "    </tr>\n",
              "  </tbody>\n",
              "</table>\n",
              "</div>"
            ],
            "text/plain": [
              "       Temperature (C)  ...  Pressure (millibars)\n",
              "count     96453.000000  ...          96453.000000\n",
              "mean         11.932678  ...           1003.235956\n",
              "std           9.551546  ...            116.969906\n",
              "min         -21.822222  ...              0.000000\n",
              "25%           4.688889  ...           1011.900000\n",
              "50%          12.000000  ...           1016.450000\n",
              "75%          18.838889  ...           1021.090000\n",
              "max          39.905556  ...           1046.380000\n",
              "\n",
              "[8 rows x 8 columns]"
            ]
          },
          "metadata": {
            "tags": []
          },
          "execution_count": 70
        }
      ]
    },
    {
      "cell_type": "code",
      "metadata": {
        "colab": {
          "base_uri": "https://localhost:8080/"
        },
        "id": "2nL0GOyVfC5c",
        "outputId": "136801d0-7c8e-40b3-891a-9e7a6d7e181d"
      },
      "source": [
        "type(df)"
      ],
      "execution_count": 71,
      "outputs": [
        {
          "output_type": "execute_result",
          "data": {
            "text/plain": [
              "pandas.core.frame.DataFrame"
            ]
          },
          "metadata": {
            "tags": []
          },
          "execution_count": 71
        }
      ]
    },
    {
      "cell_type": "code",
      "metadata": {
        "colab": {
          "base_uri": "https://localhost:8080/"
        },
        "id": "RxCp9Kl9fGLl",
        "outputId": "0fec0c6a-d424-4a71-b270-9bebed440b4a"
      },
      "source": [
        "df.index"
      ],
      "execution_count": 72,
      "outputs": [
        {
          "output_type": "execute_result",
          "data": {
            "text/plain": [
              "Index(['2006-04-01 00:00:00.000 +0200', '2006-04-01 01:00:00.000 +0200',\n",
              "       '2006-04-01 02:00:00.000 +0200', '2006-04-01 03:00:00.000 +0200',\n",
              "       '2006-04-01 04:00:00.000 +0200', '2006-04-01 05:00:00.000 +0200',\n",
              "       '2006-04-01 06:00:00.000 +0200', '2006-04-01 07:00:00.000 +0200',\n",
              "       '2006-04-01 08:00:00.000 +0200', '2006-04-01 09:00:00.000 +0200',\n",
              "       ...\n",
              "       '2016-09-09 14:00:00.000 +0200', '2016-09-09 15:00:00.000 +0200',\n",
              "       '2016-09-09 16:00:00.000 +0200', '2016-09-09 17:00:00.000 +0200',\n",
              "       '2016-09-09 18:00:00.000 +0200', '2016-09-09 19:00:00.000 +0200',\n",
              "       '2016-09-09 20:00:00.000 +0200', '2016-09-09 21:00:00.000 +0200',\n",
              "       '2016-09-09 22:00:00.000 +0200', '2016-09-09 23:00:00.000 +0200'],\n",
              "      dtype='object', name='Formatted Date', length=96453)"
            ]
          },
          "metadata": {
            "tags": []
          },
          "execution_count": 72
        }
      ]
    },
    {
      "cell_type": "markdown",
      "metadata": {
        "id": "Ft_PWN9jf6eV"
      },
      "source": [
        "##Uniqnueness of Data"
      ]
    },
    {
      "cell_type": "code",
      "metadata": {
        "colab": {
          "base_uri": "https://localhost:8080/"
        },
        "id": "KS7v907Vf_bF",
        "outputId": "074fbbcf-146a-4cd0-f8d2-ce4815dad45f"
      },
      "source": [
        "df['Summary'].unique()"
      ],
      "execution_count": 73,
      "outputs": [
        {
          "output_type": "execute_result",
          "data": {
            "text/plain": [
              "array(['Partly Cloudy', 'Mostly Cloudy', 'Overcast', 'Foggy',\n",
              "       'Breezy and Mostly Cloudy', 'Clear', 'Breezy and Partly Cloudy',\n",
              "       'Breezy and Overcast', 'Humid and Mostly Cloudy',\n",
              "       'Humid and Partly Cloudy', 'Windy and Foggy', 'Windy and Overcast',\n",
              "       'Breezy and Foggy', 'Windy and Partly Cloudy', 'Breezy',\n",
              "       'Dry and Partly Cloudy', 'Windy and Mostly Cloudy',\n",
              "       'Dangerously Windy and Partly Cloudy', 'Dry', 'Windy',\n",
              "       'Humid and Overcast', 'Light Rain', 'Drizzle', 'Windy and Dry',\n",
              "       'Dry and Mostly Cloudy', 'Breezy and Dry', 'Rain'], dtype=object)"
            ]
          },
          "metadata": {
            "tags": []
          },
          "execution_count": 73
        }
      ]
    },
    {
      "cell_type": "code",
      "metadata": {
        "colab": {
          "base_uri": "https://localhost:8080/"
        },
        "id": "3aGnnpH4gITB",
        "outputId": "01793648-a329-475c-a3f5-4c00a11146f5"
      },
      "source": [
        "df['Precip Type'].unique()"
      ],
      "execution_count": 74,
      "outputs": [
        {
          "output_type": "execute_result",
          "data": {
            "text/plain": [
              "array(['rain', 'snow', nan], dtype=object)"
            ]
          },
          "metadata": {
            "tags": []
          },
          "execution_count": 74
        }
      ]
    },
    {
      "cell_type": "code",
      "metadata": {
        "colab": {
          "base_uri": "https://localhost:8080/"
        },
        "id": "uUO7mkWGgLsv",
        "outputId": "58302a04-e99e-4b54-eda4-912f87fd9b86"
      },
      "source": [
        "df['Temperature (C)'].unique()"
      ],
      "execution_count": 75,
      "outputs": [
        {
          "output_type": "execute_result",
          "data": {
            "text/plain": [
              "array([ 9.47222222,  9.35555556,  9.37777778, ..., 28.47222222,\n",
              "       28.33888889, 30.60555556])"
            ]
          },
          "metadata": {
            "tags": []
          },
          "execution_count": 75
        }
      ]
    },
    {
      "cell_type": "code",
      "metadata": {
        "colab": {
          "base_uri": "https://localhost:8080/"
        },
        "id": "sbOsHbOlgPB5",
        "outputId": "4d9da55a-0971-4317-c4e2-c440c627ec3f"
      },
      "source": [
        "df['Apparent Temperature (C)'].unique()"
      ],
      "execution_count": 76,
      "outputs": [
        {
          "output_type": "execute_result",
          "data": {
            "text/plain": [
              "array([ 7.38888889,  7.22777778,  9.37777778, ..., 12.14444444,\n",
              "        9.73888889,  9.23333333])"
            ]
          },
          "metadata": {
            "tags": []
          },
          "execution_count": 76
        }
      ]
    },
    {
      "cell_type": "code",
      "metadata": {
        "colab": {
          "base_uri": "https://localhost:8080/"
        },
        "id": "qx1Ce2B9gSex",
        "outputId": "0b1e7573-ee82-49ab-9d3c-9ab9f58174a9"
      },
      "source": [
        "df['Humidity'].unique()"
      ],
      "execution_count": 77,
      "outputs": [
        {
          "output_type": "execute_result",
          "data": {
            "text/plain": [
              "array([0.89, 0.86, 0.83, 0.85, 0.95, 0.82, 0.72, 0.67, 0.54, 0.55, 0.51,\n",
              "       0.47, 0.46, 0.6 , 0.63, 0.69, 0.7 , 0.77, 0.76, 0.79, 0.62, 0.66,\n",
              "       0.8 , 0.78, 0.61, 0.52, 0.4 , 0.37, 0.36, 0.43, 0.5 , 0.53, 0.58,\n",
              "       0.59, 0.87, 0.93, 0.84, 0.73, 0.71, 0.74, 0.81, 0.9 , 0.99, 0.96,\n",
              "       0.75, 0.88, 0.65, 0.91, 0.94, 0.92, 0.44, 0.56, 0.68, 0.64, 0.48,\n",
              "       0.57, 0.98, 1.  , 0.38, 0.41, 0.45, 0.49, 0.32, 0.42, 0.35, 0.39,\n",
              "       0.97, 0.34, 0.33, 0.31, 0.3 , 0.29, 0.27, 0.28, 0.26, 0.24, 0.25,\n",
              "       0.23, 0.19, 0.17, 0.2 , 0.15, 0.18, 0.22, 0.14, 0.21, 0.16, 0.13,\n",
              "       0.  , 0.12])"
            ]
          },
          "metadata": {
            "tags": []
          },
          "execution_count": 77
        }
      ]
    },
    {
      "cell_type": "code",
      "metadata": {
        "colab": {
          "base_uri": "https://localhost:8080/"
        },
        "id": "X1uv_bJhgWD5",
        "outputId": "52be3d46-773b-4703-c7ca-f49367cd24fc"
      },
      "source": [
        "df['Wind Speed (km/h)'].unique()"
      ],
      "execution_count": 78,
      "outputs": [
        {
          "output_type": "execute_result",
          "data": {
            "text/plain": [
              "array([14.1197, 14.2646,  3.9284, ..., 37.0622, 35.5971, 30.751 ])"
            ]
          },
          "metadata": {
            "tags": []
          },
          "execution_count": 78
        }
      ]
    },
    {
      "cell_type": "code",
      "metadata": {
        "colab": {
          "base_uri": "https://localhost:8080/"
        },
        "id": "_ubJTtwLgabC",
        "outputId": "90a1981a-7c42-41fc-a00e-cc989cf38220"
      },
      "source": [
        "df['Wind Bearing (degrees)'].unique()"
      ],
      "execution_count": 79,
      "outputs": [
        {
          "output_type": "execute_result",
          "data": {
            "text/plain": [
              "array([251., 259., 204., 269., 258., 260., 279., 290., 316., 281., 289.,\n",
              "       262., 288., 230., 163., 139., 147., 160., 152., 150., 149., 180.,\n",
              "       161., 135., 141., 151., 169., 170., 187., 179., 162., 159., 168.,\n",
              "        32., 140., 103., 113., 129., 207., 153.,   4., 341.,  15., 348.,\n",
              "       321., 311., 339., 340., 330.,  19., 277.,   9.,   0., 350., 349.,\n",
              "       338., 320., 310., 328.,  20.,  28.,  11., 326., 309., 193., 273.,\n",
              "       300., 307., 319., 318., 243., 177., 172., 142., 130., 359., 166.,\n",
              "       145., 178., 223., 240., 231., 214., 222., 241., 235., 238., 211.,\n",
              "       221., 215., 224., 358.,   8.,  59.,  63.,  65., 146., 305., 327.,\n",
              "       271., 297., 301., 308., 272., 351., 175., 138., 158., 132., 209.,\n",
              "       250., 295., 280., 270., 239., 242., 266., 278., 325., 282., 274.,\n",
              "       255.,  46., 284., 283., 313., 345.,  16., 332.,  12.,  39.,   3.,\n",
              "        33.,  24.,  25.,  31.,  47.,  67.,  60., 144.,  57.,   2.,  18.,\n",
              "        48.,  29., 335., 228., 315.,  40., 143., 133., 136., 355., 123.,\n",
              "       199., 227., 156., 261., 357., 190., 298.,  10., 127.,  81., 120.,\n",
              "       134., 115., 347.,  72.,   7.,   1.,  30., 352., 353.,  85.,  49.,\n",
              "        21.,  23.,  35.,  56., 337., 285., 306.,   6., 116., 197., 275.,\n",
              "       100., 333., 304.,  90.,  58., 157., 329., 268., 317., 210., 226.,\n",
              "       188., 292., 154., 205., 181., 185., 148.,  68., 155., 137.,  95.,\n",
              "        50.,  80.,  83.,  73.,  70., 106.,  94., 117.,  53.,  82., 101.,\n",
              "       102.,  54.,  52.,  38., 128., 164.,  71., 108., 121., 122., 189.,\n",
              "       246., 302., 245., 291., 312., 296., 264.,  41.,  62., 119.,  98.,\n",
              "       124., 299., 173., 176., 194., 171., 183., 167., 229., 303., 212.,\n",
              "       322., 331., 342., 324., 265., 267., 165., 236., 110., 216., 218.,\n",
              "       354.,  75., 186., 249.,  55.,  64.,  17.,   5., 263., 256.,  69.,\n",
              "        89., 200., 112., 192., 287., 237., 213., 220., 217., 202., 208.,\n",
              "       198., 201., 111., 104., 126., 191., 254., 107., 118., 131., 232.,\n",
              "       196., 174., 248., 182., 294., 252., 247., 233., 244., 276., 225.,\n",
              "       234., 219.,  84.,  96., 336., 253., 346., 314., 203.,  13., 343.,\n",
              "       125.,  61.,  79.,  93., 286.,  27., 323., 195.,  87., 105., 206.,\n",
              "        44.,  51.,  36.,  43.,  26.,  74., 109., 356., 334.,  99.,  88.,\n",
              "       257., 293.,  45., 344., 184.,  22.,  42.,  37.,  14.,  34.,  76.,\n",
              "        91.,  86.,  97.,  66., 114.,  77.,  92.,  78.])"
            ]
          },
          "metadata": {
            "tags": []
          },
          "execution_count": 79
        }
      ]
    },
    {
      "cell_type": "code",
      "metadata": {
        "colab": {
          "base_uri": "https://localhost:8080/"
        },
        "id": "xIrmNpWtgeeb",
        "outputId": "f271501b-d115-4aa1-d1a7-798384b7ef48"
      },
      "source": [
        "df['Visibility (km)'].unique()"
      ],
      "execution_count": 80,
      "outputs": [
        {
          "output_type": "execute_result",
          "data": {
            "text/plain": [
              "array([1.58263e+01, 1.49569e+01, 9.98200e+00, 1.12056e+01, 1.14471e+01,\n",
              "       1.12700e+01, 1.10285e+01, 6.19850e+00, 8.05000e+00, 1.03523e+01,\n",
              "       6.69760e+00, 9.90150e+00, 5.97310e+00, 1.08031e+01, 1.06743e+01,\n",
              "       1.08192e+01, 1.07548e+01, 1.08997e+01, 1.08514e+01, 1.10768e+01,\n",
              "       1.08836e+01, 7.61530e+00, 2.65650e+00, 3.81570e+00, 4.49190e+00,\n",
              "       4.44360e+00, 5.68330e+00, 3.10730e+00, 3.20390e+00, 1.40553e+01,\n",
              "       6.11800e+00, 6.16630e+00, 7.96950e+00, 6.34340e+00, 1.05455e+01,\n",
              "       1.49086e+01, 1.50052e+01, 1.58746e+01, 1.00464e+01, 1.00303e+01,\n",
              "       1.19784e+01, 1.41680e+01, 5.92480e+00, 1.22360e+00, 7.21280e+00,\n",
              "       1.11251e+01, 1.33791e+01, 1.13988e+01, 1.12861e+01, 1.56975e+01,\n",
              "       1.48764e+01, 6.84250e+00, 1.53594e+01, 4.29870e+00, 4.12160e+00,\n",
              "       4.76560e+00, 2.93020e+00, 5.84430e+00, 9.61170e+00, 9.67610e+00,\n",
              "       2.01250e+00, 5.21640e+00, 1.45866e+01, 1.56009e+01, 1.47154e+01,\n",
              "       6.11800e-01, 3.63860e+00, 1.11090e+00, 5.15200e-01, 4.34700e-01,\n",
              "       6.92300e-01, 2.20570e+00, 4.20210e+00, 6.31120e+00, 8.19490e+00,\n",
              "       6.89080e+00, 7.27720e+00, 4.74950e+00, 5.82820e+00, 3.83180e+00,\n",
              "       4.50800e+00, 3.12340e+00, 1.80320e+00, 3.88010e+00, 3.86400e+00,\n",
              "       3.25220e+00, 6.44000e-01, 1.25580e+00, 2.35060e+00, 4.02500e+00,\n",
              "       6.26290e+00, 9.62780e+00, 8.13050e+00, 1.06260e+00, 1.78710e+00,\n",
              "       3.36490e+00, 4.45970e+00, 1.91590e+00, 1.75490e+00, 2.36670e+00,\n",
              "       2.89800e-01, 2.55990e+00, 6.29510e+00, 1.11412e+01, 1.48120e+01,\n",
              "       9.80490e+00, 2.02860e+00, 1.73880e+00, 7.88900e-01, 9.54730e+00,\n",
              "       4.28260e+00, 7.40600e-01, 8.33980e+00, 1.40875e+01, 1.54721e+01,\n",
              "       1.09802e+01, 1.04006e+01, 1.19301e+01, 1.20428e+01, 1.52628e+01,\n",
              "       1.18979e+01, 1.16886e+01, 9.75660e+00, 9.43460e+00, 1.46349e+01,\n",
              "       1.16725e+01, 9.69220e+00, 4.66900e-01, 5.39350e+00, 9.53120e+00,\n",
              "       1.53111e+01, 3.44540e+00, 1.09480e+01, 1.00625e+01, 2.73700e+00,\n",
              "       1.57297e+01, 3.97670e+00, 3.67080e+00, 3.75130e+00, 7.14840e+00,\n",
              "       7.90510e+00, 9.94980e+00, 1.04167e+01, 7.37380e+00, 1.10446e+01,\n",
              "       9.01600e+00, 1.39104e+01, 1.56492e+01, 1.47315e+01, 1.36528e+01,\n",
              "       4.58850e+00, 5.87650e+00, 1.12539e+01, 5.03930e+00, 6.98740e+00,\n",
              "       1.40231e+01, 1.02718e+01, 1.38943e+01, 9.70830e+00, 9.98200e-01,\n",
              "       9.85320e+00, 1.54399e+01, 1.42324e+01, 3.91230e+00, 1.55526e+01,\n",
              "       7.82460e+00, 4.94270e+00, 6.93910e+00, 1.04811e+01, 6.53660e+00,\n",
              "       1.36850e+01, 6.06970e+00, 6.58490e+00, 4.99100e+00, 1.60517e+01,\n",
              "       7.13230e+00, 9.83710e+00, 1.39426e+01, 1.61000e+01, 1.13183e+01,\n",
              "       6.02140e+00, 4.62070e+00, 1.47637e+01, 1.07870e+01, 3.49370e+00,\n",
              "       1.01913e+01, 8.30760e+00, 1.47959e+01, 7.87290e+00, 1.04489e+01,\n",
              "       7.98560e+00, 8.00170e+00, 1.05294e+01, 1.07226e+01, 1.37333e+01,\n",
              "       8.42030e+00, 8.11440e+00, 1.17047e+01, 7.03570e+00, 4.39530e+00,\n",
              "       4.34700e+00, 4.33090e+00, 2.89800e+00, 1.89980e+00, 4.18600e-01,\n",
              "       2.97850e+00, 5.32910e+00, 4.84610e+00, 4.83000e+00, 4.00890e+00,\n",
              "       3.94450e+00, 3.30050e+00, 1.18496e+01, 9.48290e+00, 1.70660e+00,\n",
              "       1.36850e+00, 6.72980e+00, 1.62610e+00, 3.01070e+00, 4.91050e+00,\n",
              "       5.76380e+00, 7.56700e-01, 3.22000e-01, 1.61000e-01, 6.60100e-01,\n",
              "       2.73700e-01, 2.09300e-01, 9.33800e-01, 9.66000e-01, 1.30410e+00,\n",
              "       1.81930e+00, 2.57600e+00, 2.44720e+00, 1.72270e+00, 1.88370e+00,\n",
              "       4.83000e-01, 3.05900e-01, 1.77100e-01, 6.27900e-01, 7.08400e-01,\n",
              "       2.60820e+00, 2.54380e+00, 1.32020e+00, 8.53300e-01, 4.02500e-01,\n",
              "       2.41500e-01, 1.93200e-01, 1.61000e-02, 6.76200e-01, 5.47400e-01,\n",
              "       0.00000e+00, 4.83000e-02, 3.22000e-02, 3.38100e-01, 8.05000e-01,\n",
              "       7.24500e-01, 1.64220e+00, 1.12700e-01, 1.27190e+00, 1.41680e+00,\n",
              "       8.85500e-01, 1.28800e+00, 1.44900e+00, 2.52770e+00, 2.83360e+00,\n",
              "       1.06582e+01, 1.57780e+00, 3.41320e+00, 3.92840e+00, 5.52230e+00,\n",
              "       4.87830e+00, 4.26650e+00, 6.00530e+00, 6.24680e+00, 6.48830e+00,\n",
              "       1.38138e+01, 6.35950e+00, 5.13590e+00, 5.28080e+00, 1.15920e+00,\n",
              "       6.05360e+00, 7.74410e+00, 5.40960e+00, 4.81390e+00, 1.02557e+01,\n",
              "       1.94810e+00, 9.82100e-01, 8.46860e+00, 7.63140e+00, 3.39710e+00,\n",
              "       3.13950e+00, 4.52410e+00, 7.72800e+00, 3.78350e+00, 4.31480e+00,\n",
              "       4.37920e+00, 4.04110e+00, 3.55810e+00, 4.57240e+00, 7.51870e+00,\n",
              "       8.61350e+00, 7.05180e+00, 1.56170e+00, 3.05900e+00, 5.69940e+00,\n",
              "       6.03750e+00, 4.41140e+00, 1.93200e+00, 5.66720e+00, 6.18240e+00,\n",
              "       1.77100e+00, 2.15740e+00, 2.62430e+00, 3.50980e+00, 5.47400e+00,\n",
              "       8.75840e+00, 1.39748e+01, 1.15276e+01, 8.17880e+00, 6.77810e+00,\n",
              "       4.07330e+00, 8.96770e+00, 1.51501e+01, 1.42163e+01, 1.20911e+01,\n",
              "       1.45222e+01, 8.14660e+00, 1.38460e+00, 3.86400e-01, 1.85150e+00,\n",
              "       1.86760e+00, 2.59210e+00, 1.51340e+00, 3.09120e+00, 3.96060e+00,\n",
              "       5.57060e+00, 3.42930e+00, 3.33270e+00, 1.25902e+01, 8.05000e-02,\n",
              "       1.59390e+00, 5.89260e+00, 7.18060e+00, 9.11260e+00, 2.96240e+00,\n",
              "       5.81210e+00, 4.89440e+00, 4.95880e+00, 5.79600e+00, 5.50620e+00,\n",
              "       2.72090e+00, 7.69580e+00, 9.56340e+00, 5.60280e+00, 4.36310e+00,\n",
              "       4.73340e+00, 5.95700e+00, 1.49730e+00, 1.35240e+00, 2.14130e+00,\n",
              "       5.11980e+00, 1.36206e+01, 7.64750e+00, 1.46510e+00, 1.65830e+00,\n",
              "       2.86580e+00, 4.08940e+00, 4.42750e+00, 4.18600e+00, 2.88190e+00,\n",
              "       8.32370e+00, 1.23970e+00, 1.17530e+00, 2.46330e+00, 7.06790e+00,\n",
              "       1.27190e+01, 9.78880e+00, 8.09830e+00, 9.57950e+00, 9.27360e+00,\n",
              "       7.77630e+00, 9.64390e+00, 8.54910e+00, 7.71190e+00, 6.79420e+00,\n",
              "       6.82640e+00, 6.85860e+00, 8.22710e+00, 1.15759e+01, 6.90690e+00,\n",
              "       7.35770e+00, 3.89620e+00, 3.52590e+00, 5.65110e+00, 8.74230e+00,\n",
              "       4.68510e+00, 4.79780e+00, 3.84790e+00, 1.14310e+00, 8.37200e-01,\n",
              "       9.17700e-01, 9.01600e-01, 9.49900e-01, 5.53840e+00, 5.73160e+00,\n",
              "       6.13410e+00, 1.44095e+01, 9.45070e+00, 6.64930e+00, 9.82100e+00,\n",
              "       1.05938e+01, 3.71910e+00, 6.87470e+00, 1.44900e-01, 3.46150e+00,\n",
              "       4.05720e+00, 9.59560e+00, 1.83540e+00, 2.75310e+00, 3.34880e+00,\n",
              "       3.18780e+00, 3.04290e+00, 1.43612e+01, 7.72800e-01, 5.63500e-01,\n",
              "       4.78170e+00, 1.07709e+01, 1.46832e+01, 1.01108e+01, 9.74050e+00,\n",
              "       2.99460e+00, 3.07510e+00, 3.17170e+00, 1.61000e+00, 8.21100e-01,\n",
              "       3.15560e+00, 4.15380e+00, 6.47220e+00, 1.46027e+01, 4.50800e-01,\n",
              "       1.29605e+01, 1.04972e+01, 7.00350e+00, 1.11895e+01, 3.47760e+00,\n",
              "       6.23070e+00, 5.10370e+00, 7.80850e+00, 1.07387e+01, 8.08220e+00,\n",
              "       1.44739e+01, 5.90870e+00, 1.10607e+01, 9.19310e+00, 9.32190e+00,\n",
              "       4.71730e+00, 3.65470e+00, 3.57420e+00, 5.31300e+00, 2.10910e+00,\n",
              "       1.05777e+01, 7.26110e+00, 1.55365e+01, 2.07690e+00, 2.17350e+00,\n",
              "       1.28961e+01, 1.53755e+01, 1.09480e+00, 4.23430e+00, 2.12520e+00,\n",
              "       3.62250e+00, 1.09158e+01, 4.60460e+00, 6.40780e+00, 7.11620e+00,\n",
              "       7.08400e+00, 6.08580e+00, 3.76740e+00, 4.92660e+00, 2.30230e+00,\n",
              "       6.74590e+00, 5.07150e+00, 5.08760e+00, 2.38280e+00, 2.49550e+00,\n",
              "       2.94630e+00, 2.33450e+00, 5.86040e+00, 7.55090e+00, 7.66360e+00,\n",
              "       8.64570e+00, 1.54560e+00, 9.41850e+00, 9.86930e+00, 5.26470e+00,\n",
              "       5.23250e+00, 9.14480e+00, 5.34520e+00, 4.47580e+00, 8.91940e+00,\n",
              "       9.49900e+00, 1.12378e+01, 8.71010e+00, 5.24860e+00, 1.16081e+01,\n",
              "       8.93550e+00, 1.18013e+01, 1.29283e+01, 1.41036e+01, 9.40240e+00,\n",
              "       1.03684e+01, 1.08353e+01, 4.21820e+00, 9.51510e+00, 1.17530e+01,\n",
              "       7.88900e+00, 9.28970e+00, 9.93370e+00, 7.59920e+00, 3.28440e+00,\n",
              "       3.26830e+00, 5.18420e+00, 2.47940e+00, 3.60640e+00, 2.68870e+00,\n",
              "       4.66900e+00, 5.74770e+00, 3.23610e+00, 3.22000e+00, 1.01430e+00,\n",
              "       1.15920e+01, 1.24292e+01, 1.09641e+01, 8.35590e+00, 1.44256e+01,\n",
              "       1.03845e+01, 1.11573e+01, 1.02074e+01, 1.52467e+01, 8.25930e+00,\n",
              "       1.45705e+01, 1.48442e+01, 1.13505e+01, 3.70300e+00, 1.44578e+01,\n",
              "       2.31840e+00, 2.06080e+00, 1.33147e+01, 8.62960e+00, 5.42570e+00,\n",
              "       7.53480e+00, 5.44180e+00, 7.42210e+00, 6.15020e+00, 2.41500e+00,\n",
              "       9.37020e+00, 3.54200e-01, 2.81750e+00, 4.70120e+00, 4.55630e+00,\n",
              "       1.00947e+01, 8.90330e+00, 7.29330e+00, 2.64040e+00, 1.06421e+01,\n",
              "       8.51690e+00, 9.38630e+00, 9.24140e+00, 1.10929e+01, 5.16810e+00,\n",
              "       7.16450e+00, 8.01780e+00, 2.91410e+00, 1.43290e+00, 7.93730e+00,\n",
              "       5.95700e-01, 2.27010e+00, 7.45430e+00, 1.44900e+01, 8.85500e+00,\n",
              "       1.01752e+01, 1.55043e+01, 1.54560e+01, 1.54238e+01, 5.02320e+00,\n",
              "       9.66000e+00, 4.25040e+00, 1.34435e+01, 1.34757e+01, 1.07065e+01,\n",
              "       1.04650e+00, 1.43451e+01, 1.15437e+01, 1.55204e+01, 4.54020e+00,\n",
              "       1.14954e+01, 1.51179e+01, 1.56653e+01, 1.50535e+01, 9.17700e+00,\n",
              "       5.77990e+00, 7.79240e+00, 9.06430e+00, 6.60100e+00, 6.52050e+00,\n",
              "       6.10190e+00, 6.45610e+00, 7.30940e+00, 2.18960e+00, 2.84970e+00,\n",
              "       9.12870e+00, 7.67970e+00, 1.40070e+00, 7.40600e+00, 1.69050e+00,\n",
              "       3.59030e+00, 3.54200e+00, 5.58670e+00, 5.31300e-01, 1.52950e+00,\n",
              "       1.30893e+01, 1.98030e+00, 1.39587e+01, 1.19140e+01, 8.06610e+00,\n",
              "       9.35410e+00, 9.33800e+00, 1.16403e+01, 1.03040e+01, 7.01960e+00,\n",
              "       1.35401e+01, 1.53916e+01, 1.54077e+01, 1.43290e+01, 3.73520e+00,\n",
              "       6.21460e+00, 4.16990e+00, 8.16270e+00, 5.15200e+00, 7.56700e+00,\n",
              "       9.20920e+00, 9.09650e+00, 6.61710e+00, 1.67440e+00, 1.56814e+01,\n",
              "       1.43934e+01, 1.15115e+01, 1.21877e+01, 1.49730e+01, 1.57136e+01,\n",
              "       1.52789e+01, 1.59068e+01, 8.82280e+00, 2.28620e+00, 5.20030e+00,\n",
              "       1.32664e+01, 7.38990e+00, 1.12700e+00, 2.22180e+00, 1.13827e+01,\n",
              "       6.63320e+00, 2.04470e+00, 3.70300e-01, 4.99100e-01, 2.09300e+00,\n",
              "       5.36130e+00, 1.96420e+00, 2.78530e+00, 2.23790e+00, 2.67260e+00,\n",
              "       3.79960e+00, 2.80140e+00, 2.51160e+00, 5.45790e+00, 3.99280e+00,\n",
              "       2.70480e+00, 3.02680e+00, 5.98920e+00, 2.76920e+00, 1.48120e+00,\n",
              "       1.13666e+01, 7.19670e+00, 7.95340e+00, 7.48650e+00, 2.25400e+00,\n",
              "       1.38621e+01, 9.16090e+00, 1.01591e+01, 9.66000e-02, 7.32550e+00,\n",
              "       5.61890e+00, 9.99810e+00, 1.01430e+01, 6.92300e+00, 1.14149e+01,\n",
              "       8.87110e+00, 1.44417e+01, 5.29690e+00, 2.43110e+00, 1.22682e+01,\n",
              "       1.24775e+01, 8.67790e+00, 9.46680e+00, 1.17369e+01, 1.03362e+01,\n",
              "       4.63680e+00, 4.13770e+00, 5.00710e+00, 9.77270e+00, 7.43820e+00,\n",
              "       5.55450e+00, 1.46671e+01, 1.45383e+01, 7.34160e+00, 4.86220e+00,\n",
              "       6.66540e+00, 1.99640e+00, 8.88720e+00, 9.25750e+00, 8.59740e+00,\n",
              "       1.02396e+01, 1.33630e+01, 1.35240e+01, 1.41841e+01, 2.25400e-01,\n",
              "       7.85680e+00, 5.63500e+00, 1.42807e+01, 1.39265e+01, 1.16242e+01,\n",
              "       1.06904e+01, 6.95520e+00, 2.57600e-01, 1.20750e+00, 9.72440e+00,\n",
              "       8.83890e+00, 6.97130e+00, 1.54882e+01, 1.14632e+01, 1.11734e+01,\n",
              "       9.30580e+00, 4.10550e+00, 1.55687e+01, 1.21555e+01, 1.22843e+01,\n",
              "       1.25097e+01, 1.26063e+01, 1.37494e+01, 1.38460e+01, 9.88540e+00,\n",
              "       8.77450e+00, 1.58424e+01, 6.71370e+00, 8.37200e+00, 1.47798e+01,\n",
              "       4.65290e+00, 3.68690e+00, 1.19140e+00, 1.32503e+01, 1.28478e+01,\n",
              "       7.58310e+00, 8.03390e+00, 1.10124e+01, 6.50440e+00, 1.31537e+01,\n",
              "       1.13022e+01, 8.66180e+00, 1.07870e+00, 1.46510e+01, 7.50260e+00,\n",
              "       1.37816e+01, 5.79600e-01, 1.51340e+01, 1.27029e+01, 1.26868e+01,\n",
              "       1.18818e+01, 1.13344e+01, 1.36367e+01, 1.02235e+01, 8.69400e+00,\n",
              "       1.20106e+01, 1.51823e+01, 1.20750e+01, 1.31376e+01, 1.32342e+01,\n",
              "       7.92120e+00, 1.19945e+01, 1.31698e+01, 6.44000e-02, 1.05616e+01,\n",
              "       1.09319e+01, 7.84070e+00, 8.58130e+00, 9.08040e+00, 1.33630e+00,\n",
              "       1.04650e+01, 3.31660e+00, 9.04820e+00, 1.15598e+01, 1.02879e+01,\n",
              "       1.05133e+01, 7.10010e+00, 1.21233e+01, 1.38299e+01, 1.00142e+01,\n",
              "       7.22890e+00, 6.76200e+00, 1.34113e+01, 8.79060e+00, 1.29927e+01,\n",
              "       8.99990e+00, 1.03040e+00, 1.46188e+01, 1.42968e+01, 1.03201e+01,\n",
              "       1.30088e+01, 8.72620e+00, 5.49010e+00, 1.18335e+01, 1.42002e+01,\n",
              "       1.17852e+01, 1.11090e+01, 1.06099e+01, 6.39170e+00, 6.37560e+00,\n",
              "       1.25580e+01, 1.41519e+01, 1.51662e+01, 1.22199e+01, 5.05540e+00,\n",
              "       6.68150e+00, 6.81030e+00, 6.42390e+00, 5.37740e+00, 1.36689e+01,\n",
              "       7.24500e+00, 1.43129e+01, 6.44000e+00, 6.32730e+00, 3.38100e+00,\n",
              "       6.55270e+00, 1.38782e+01, 8.24320e+00, 1.24614e+01, 1.40714e+01,\n",
              "       2.39890e+00, 1.35562e+01, 1.21394e+01, 1.52145e+01, 4.97490e+00,\n",
              "       8.69400e-01, 1.34918e+01, 8.95160e+00, 9.03210e+00, 1.14310e+01,\n",
              "       7.76020e+00, 1.00786e+01, 5.94090e+00, 8.38810e+00, 1.34274e+01,\n",
              "       1.37977e+01, 6.27900e+00, 1.09963e+01, 1.31215e+01, 8.21100e+00,\n",
              "       9.96590e+00, 1.04328e+01, 1.26707e+01, 1.46993e+01, 1.37655e+01,\n",
              "       1.42485e+01, 8.43640e+00, 1.43773e+01, 1.30249e+01, 1.28317e+01,\n",
              "       1.48603e+01, 1.32020e+01, 8.29150e+00, 1.59229e+01, 8.98380e+00,\n",
              "       1.28800e-01, 1.22521e+01, 1.50213e+01, 1.28156e+01, 1.45061e+01,\n",
              "       1.12217e+01, 1.57780e+01, 1.57941e+01, 1.53433e+01, 1.42646e+01,\n",
              "       6.56880e+00, 1.48281e+01, 1.40392e+01, 1.41358e+01, 1.59551e+01,\n",
              "       1.17691e+01, 1.49891e+01, 1.58585e+01, 1.51984e+01, 1.50857e+01,\n",
              "       1.23809e+01, 1.19623e+01, 1.27673e+01, 1.21716e+01, 1.26385e+01,\n",
              "       1.18174e+01, 1.30410e+01, 1.30732e+01, 1.40070e+01, 8.27540e+00,\n",
              "       1.25741e+01, 1.56170e+01, 1.60195e+01, 1.45544e+01, 1.22360e+01,\n",
              "       1.23970e+01, 8.56520e+00, 1.24936e+01, 1.25419e+01, 9.22530e+00,\n",
              "       7.47040e+00, 1.31859e+01, 8.50080e+00, 1.35723e+01, 1.39909e+01,\n",
              "       1.41197e+01, 1.34596e+01, 1.01269e+01, 8.45250e+00, 8.48470e+00,\n",
              "       8.40420e+00, 8.53300e+00, 9.91760e+00, 5.71550e+00, 8.80670e+00,\n",
              "       1.14793e+01, 1.06260e+01, 1.24131e+01, 1.08675e+01, 1.23326e+01,\n",
              "       1.17208e+01, 1.52306e+01, 1.52950e+01, 1.53272e+01, 1.57619e+01,\n",
              "       1.58102e+01, 1.59390e+01, 1.59873e+01, 1.60839e+01])"
            ]
          },
          "metadata": {
            "tags": []
          },
          "execution_count": 80
        }
      ]
    },
    {
      "cell_type": "code",
      "metadata": {
        "colab": {
          "base_uri": "https://localhost:8080/"
        },
        "id": "CkkZ6tebgiP5",
        "outputId": "0507ba98-c3c2-415b-eadc-f5cf0c8ea0a0"
      },
      "source": [
        "df['Pressure (millibars)'].unique()"
      ],
      "execution_count": 81,
      "outputs": [
        {
          "output_type": "execute_result",
          "data": {
            "text/plain": [
              "array([1015.13, 1015.63, 1015.94, ...,  998.11,  998.52,  997.59])"
            ]
          },
          "metadata": {
            "tags": []
          },
          "execution_count": 81
        }
      ]
    },
    {
      "cell_type": "code",
      "metadata": {
        "colab": {
          "base_uri": "https://localhost:8080/"
        },
        "id": "D2KGo7CtgmZo",
        "outputId": "c27230a3-65b9-4077-ae83-6aa073f46e0d"
      },
      "source": [
        "df['Daily Summary'].unique()"
      ],
      "execution_count": 82,
      "outputs": [
        {
          "output_type": "execute_result",
          "data": {
            "text/plain": [
              "array(['Partly cloudy throughout the day.',\n",
              "       'Mostly cloudy throughout the day.', 'Foggy in the evening.',\n",
              "       'Foggy overnight and breezy in the morning.',\n",
              "       'Overcast throughout the day.', 'Partly cloudy until night.',\n",
              "       'Mostly cloudy until night.',\n",
              "       'Foggy starting overnight continuing until morning.',\n",
              "       'Foggy in the morning.', 'Partly cloudy until evening.',\n",
              "       'Partly cloudy starting in the morning.',\n",
              "       'Mostly cloudy starting overnight continuing until night.',\n",
              "       'Mostly cloudy until evening.',\n",
              "       'Partly cloudy starting in the morning continuing until evening.',\n",
              "       'Partly cloudy starting in the afternoon.',\n",
              "       'Partly cloudy starting overnight.',\n",
              "       'Partly cloudy until morning.',\n",
              "       'Partly cloudy starting overnight continuing until night.',\n",
              "       'Partly cloudy starting in the afternoon continuing until night.',\n",
              "       'Mostly cloudy starting overnight.',\n",
              "       'Partly cloudy until afternoon.',\n",
              "       'Mostly cloudy until night and breezy in the afternoon.',\n",
              "       'Foggy starting in the evening.', 'Foggy throughout the day.',\n",
              "       'Foggy starting in the evening continuing until night.',\n",
              "       'Mostly cloudy until morning.',\n",
              "       'Foggy starting in the morning continuing until evening.',\n",
              "       'Foggy starting overnight continuing until afternoon.',\n",
              "       'Partly cloudy starting in the morning continuing until afternoon.',\n",
              "       'Foggy starting overnight.', 'Foggy until morning.',\n",
              "       'Foggy starting overnight continuing until evening.',\n",
              "       'Foggy starting in the afternoon.',\n",
              "       'Partly cloudy starting overnight continuing until afternoon.',\n",
              "       'Partly cloudy starting in the morning continuing until night.',\n",
              "       'Overcast until night.',\n",
              "       'Mostly cloudy starting overnight continuing until evening.',\n",
              "       'Foggy overnight.', 'Partly cloudy in the morning.',\n",
              "       'Mostly cloudy starting in the morning.',\n",
              "       'Foggy starting in the afternoon continuing until evening.',\n",
              "       'Mostly cloudy until afternoon.',\n",
              "       'Foggy starting overnight continuing until night.',\n",
              "       'Mostly cloudy throughout the day and breezy in the evening.',\n",
              "       'Foggy starting in the morning continuing until afternoon.',\n",
              "       'Partly cloudy in the afternoon.', 'Clear throughout the day.',\n",
              "       'Partly cloudy starting in the afternoon continuing until evening.',\n",
              "       'Partly cloudy overnight.', 'Overcast until evening.',\n",
              "       'Foggy in the morning and breezy starting in the afternoon continuing until night.',\n",
              "       'Breezy starting overnight continuing until afternoon and foggy starting in the morning continuing until evening.',\n",
              "       'Partly cloudy starting overnight continuing until morning.',\n",
              "       'Mostly cloudy throughout the day and breezy in the afternoon.',\n",
              "       'Mostly cloudy starting overnight and breezy in the afternoon.',\n",
              "       'Partly cloudy throughout the day and breezy starting in the morning continuing until night.',\n",
              "       'Mostly cloudy throughout the day and breezy in the morning.',\n",
              "       'Partly cloudy starting in the evening continuing until night.',\n",
              "       'Mostly cloudy until night and breezy starting in the morning continuing until afternoon.',\n",
              "       'Partly cloudy starting in the morning continuing until evening and breezy starting in the morning continuing until afternoon.',\n",
              "       'Partly cloudy throughout the day and breezy starting in the morning continuing until afternoon.',\n",
              "       'Partly cloudy throughout the day and breezy starting in the morning continuing until evening.',\n",
              "       'Foggy until afternoon.',\n",
              "       'Overcast until night and breezy overnight.',\n",
              "       'Breezy until morning and mostly cloudy throughout the day.',\n",
              "       'Mostly cloudy starting in the morning continuing until night.',\n",
              "       'Breezy starting overnight continuing until morning and partly cloudy starting overnight continuing until evening.',\n",
              "       'Partly cloudy in the evening.',\n",
              "       'Mostly cloudy starting overnight continuing until afternoon.',\n",
              "       'Mostly cloudy starting in the morning continuing until afternoon.',\n",
              "       'Mostly cloudy starting in the afternoon.',\n",
              "       'Mostly cloudy starting in the morning continuing until evening.',\n",
              "       'Partly cloudy starting overnight continuing until afternoon and breezy in the afternoon.',\n",
              "       'Partly cloudy starting overnight and breezy in the afternoon.',\n",
              "       'Mostly cloudy starting in the morning and breezy in the evening.',\n",
              "       'Foggy starting in the afternoon continuing until night.',\n",
              "       'Foggy until night.',\n",
              "       'Foggy starting in the morning continuing until night.',\n",
              "       'Foggy until evening.', 'Foggy starting in the morning.',\n",
              "       'Partly cloudy starting overnight continuing until evening.',\n",
              "       'Partly cloudy starting overnight continuing until evening and breezy starting in the morning continuing until evening.',\n",
              "       'Breezy starting overnight continuing until morning and foggy in the evening.',\n",
              "       'Mostly cloudy throughout the day and breezy starting in the morning continuing until evening.',\n",
              "       'Partly cloudy until evening and breezy starting in the morning continuing until afternoon.',\n",
              "       'Mostly cloudy starting in the afternoon continuing until night.',\n",
              "       'Breezy starting overnight continuing until afternoon and mostly cloudy starting overnight continuing until evening.',\n",
              "       'Mostly cloudy throughout the day and windy starting in the morning continuing until evening.',\n",
              "       'Breezy and partly cloudy in the afternoon.',\n",
              "       'Mostly cloudy starting overnight and breezy starting in the morning continuing until afternoon.',\n",
              "       'Partly cloudy until night and breezy starting in the morning continuing until afternoon.',\n",
              "       'Breezy and mostly cloudy overnight.',\n",
              "       'Mostly cloudy throughout the day and breezy overnight.',\n",
              "       'Mostly cloudy throughout the day and breezy starting in the morning continuing until afternoon.',\n",
              "       'Partly cloudy throughout the day and breezy in the morning.',\n",
              "       'Partly cloudy starting in the morning continuing until evening and breezy starting in the afternoon continuing until evening.',\n",
              "       'Partly cloudy throughout the day and breezy starting in the afternoon continuing until evening.',\n",
              "       'Mostly cloudy starting overnight and breezy in the morning.',\n",
              "       'Partly cloudy starting in the afternoon and breezy in the afternoon.',\n",
              "       'Partly cloudy starting in the morning and breezy in the evening.',\n",
              "       'Partly cloudy until evening and breezy in the morning.',\n",
              "       'Partly cloudy starting overnight continuing until evening and breezy starting in the morning continuing until afternoon.',\n",
              "       'Partly cloudy starting overnight continuing until evening and breezy in the evening.',\n",
              "       'Mostly cloudy throughout the day and breezy starting in the evening.',\n",
              "       'Mostly cloudy throughout the day and windy starting in the morning continuing until night.',\n",
              "       'Breezy starting overnight continuing until morning and partly cloudy starting in the morning.',\n",
              "       'Mostly cloudy starting in the morning and breezy overnight.',\n",
              "       'Overcast throughout the day and breezy starting overnight continuing until morning.',\n",
              "       'Partly cloudy throughout the day and breezy in the evening.',\n",
              "       'Mostly cloudy until evening and breezy starting in the morning continuing until afternoon.',\n",
              "       'Mostly cloudy until night and breezy in the evening.',\n",
              "       'Partly cloudy starting in the evening.',\n",
              "       'Overcast starting in the morning.',\n",
              "       'Mostly cloudy starting overnight continuing until evening and breezy starting overnight continuing until morning.',\n",
              "       'Partly cloudy starting overnight continuing until morning and breezy starting in the morning continuing until afternoon.',\n",
              "       'Partly cloudy until evening and breezy starting in the morning continuing until evening.',\n",
              "       'Breezy starting in the morning continuing until afternoon and partly cloudy starting in the morning.',\n",
              "       'Partly cloudy starting in the morning and breezy starting in the afternoon continuing until evening.',\n",
              "       'Mostly cloudy starting overnight continuing until morning.',\n",
              "       'Mostly cloudy throughout the day and breezy starting overnight continuing until afternoon.',\n",
              "       'Breezy starting overnight continuing until morning and foggy overnight.',\n",
              "       'Mostly cloudy throughout the day and breezy starting overnight continuing until morning.',\n",
              "       'Overcast throughout the day and breezy in the morning.',\n",
              "       'Overcast throughout the day and breezy in the evening.',\n",
              "       'Mostly cloudy starting in the morning continuing until night and breezy in the afternoon.',\n",
              "       'Mostly cloudy until night and breezy starting in the evening continuing until night.',\n",
              "       'Partly cloudy until night and breezy in the morning.',\n",
              "       'Partly cloudy until evening and breezy overnight.',\n",
              "       'Partly cloudy starting overnight continuing until night and windy starting in the morning continuing until afternoon.',\n",
              "       'Breezy starting in the morning continuing until afternoon and mostly cloudy starting in the morning.',\n",
              "       'Foggy starting overnight continuing until morning and breezy starting in the evening.',\n",
              "       'Mostly cloudy until night and breezy starting in the afternoon.',\n",
              "       'Foggy in the afternoon.',\n",
              "       'Mostly cloudy until night and breezy starting in the afternoon continuing until night.',\n",
              "       'Foggy starting overnight continuing until morning and breezy starting in the evening continuing until night.',\n",
              "       'Breezy until afternoon and mostly cloudy throughout the day.',\n",
              "       'Mostly cloudy throughout the day and breezy starting in the morning continuing until night.',\n",
              "       'Partly cloudy starting overnight continuing until evening and breezy in the morning.',\n",
              "       'Mostly cloudy starting in the morning and breezy in the afternoon.',\n",
              "       'Mostly cloudy starting overnight continuing until night and breezy starting in the morning continuing until evening.',\n",
              "       'Foggy starting overnight continuing until morning and breezy starting in the morning continuing until afternoon.',\n",
              "       'Mostly cloudy until evening and windy starting in the morning continuing until afternoon.',\n",
              "       'Foggy starting overnight continuing until afternoon and breezy in the morning.',\n",
              "       'Foggy starting in the morning continuing until afternoon and breezy starting in the evening.',\n",
              "       'Partly cloudy starting overnight and breezy starting in the morning continuing until afternoon.',\n",
              "       'Foggy starting overnight continuing until morning and breezy in the afternoon.',\n",
              "       'Mostly cloudy starting overnight and breezy starting in the afternoon continuing until evening.',\n",
              "       'Overcast throughout the day and breezy starting overnight continuing until afternoon.',\n",
              "       'Partly cloudy starting in the morning continuing until evening and breezy in the afternoon.',\n",
              "       'Partly cloudy starting in the morning continuing until night and breezy starting in the afternoon continuing until evening.',\n",
              "       'Mostly cloudy until night and breezy starting in the evening.',\n",
              "       'Breezy in the morning and mostly cloudy starting in the morning.',\n",
              "       'Mostly cloudy until night and breezy starting in the morning continuing until evening.',\n",
              "       'Partly cloudy starting overnight continuing until evening and windy starting in the morning continuing until evening.',\n",
              "       'Breezy in the morning and partly cloudy starting in the evening continuing until night.',\n",
              "       'Partly cloudy overnight and breezy starting in the morning continuing until afternoon.',\n",
              "       'Light rain in the morning.', 'Light rain until morning.',\n",
              "       'Light rain in the morning and afternoon.',\n",
              "       'Partly cloudy starting in the morning continuing until night and breezy starting in the morning continuing until afternoon.',\n",
              "       'Breezy starting in the afternoon continuing until night and mostly cloudy starting in the evening.',\n",
              "       'Mostly cloudy throughout the day and breezy starting in the evening continuing until night.',\n",
              "       'Foggy starting in the afternoon and breezy starting in the afternoon continuing until evening.',\n",
              "       'Breezy and foggy until morning.',\n",
              "       'Mostly cloudy until night and breezy starting overnight continuing until morning.',\n",
              "       'Partly cloudy starting overnight continuing until night and breezy in the morning.',\n",
              "       'Partly cloudy starting overnight continuing until night and breezy in the afternoon.',\n",
              "       'Mostly cloudy starting in the morning and breezy starting in the afternoon continuing until evening.',\n",
              "       'Partly cloudy starting overnight and breezy starting in the evening.',\n",
              "       'Breezy overnight and overcast throughout the day.',\n",
              "       'Partly cloudy until night and breezy in the afternoon.',\n",
              "       'Mostly cloudy starting overnight and breezy starting in the evening.',\n",
              "       'Breezy overnight and partly cloudy until evening.',\n",
              "       'Mostly cloudy starting in the evening.',\n",
              "       'Mostly cloudy throughout the day and breezy starting in the afternoon.',\n",
              "       'Mostly cloudy throughout the day and breezy starting in the afternoon continuing until evening.',\n",
              "       'Mostly cloudy until night and windy starting in the morning continuing until afternoon.',\n",
              "       'Breezy and foggy starting in the evening.',\n",
              "       'Breezy overnight and partly cloudy throughout the day.',\n",
              "       'Overcast throughout the day and breezy starting in the evening.',\n",
              "       'Breezy until evening and foggy in the morning.',\n",
              "       'Breezy overnight and mostly cloudy throughout the day.',\n",
              "       'Partly cloudy until evening and breezy in the afternoon.',\n",
              "       'Partly cloudy starting in the morning and breezy starting in the morning continuing until afternoon.',\n",
              "       'Mostly cloudy until evening and breezy in the evening.',\n",
              "       'Windy in the afternoon.', 'Overcast until morning.',\n",
              "       'Mostly cloudy overnight.',\n",
              "       'Foggy starting in the morning continuing until evening and breezy in the evening.',\n",
              "       'Breezy starting overnight continuing until morning.',\n",
              "       'Breezy starting in the afternoon continuing until evening and foggy starting in the evening.',\n",
              "       'Mostly cloudy until night and breezy overnight.',\n",
              "       'Mostly cloudy starting in the morning and windy in the evening.',\n",
              "       'Partly cloudy throughout the day and windy starting in the morning continuing until afternoon.',\n",
              "       'Breezy until afternoon and overcast throughout the day.',\n",
              "       'Breezy in the morning and foggy in the evening.',\n",
              "       'Breezy starting in the afternoon continuing until evening and foggy in the evening.',\n",
              "       'Breezy starting in the morning continuing until night.',\n",
              "       'Breezy in the morning and mostly cloudy starting in the evening.',\n",
              "       'Mostly cloudy until evening and breezy in the afternoon.',\n",
              "       'Mostly cloudy until night and breezy starting in the afternoon continuing until evening.',\n",
              "       'Mostly cloudy until evening and breezy starting overnight continuing until morning.',\n",
              "       'Overcast throughout the day and breezy in the afternoon.',\n",
              "       'Overcast throughout the day and breezy starting in the morning continuing until evening.',\n",
              "       'Overcast throughout the day and breezy overnight.',\n",
              "       'Overcast starting in the afternoon.',\n",
              "       'Partly cloudy throughout the day and breezy in the afternoon.',\n",
              "       'Light rain starting overnight.',\n",
              "       'Drizzle starting in the evening.', 'Drizzle until morning.',\n",
              "       'Rain throughout the day.', 'Rain until morning.',\n",
              "       'Light rain overnight.', 'Rain until afternoon.'], dtype=object)"
            ]
          },
          "metadata": {
            "tags": []
          },
          "execution_count": 82
        }
      ]
    },
    {
      "cell_type": "markdown",
      "metadata": {
        "id": "xRGloTXecDPI"
      },
      "source": [
        "## Data Cleaning"
      ]
    },
    {
      "cell_type": "code",
      "metadata": {
        "colab": {
          "base_uri": "https://localhost:8080/"
        },
        "id": "_lNKPhWtcDPI",
        "outputId": "2d6ad557-2bd7-4231-e309-cc580ec9002b"
      },
      "source": [
        "df.index.dtype"
      ],
      "execution_count": 83,
      "outputs": [
        {
          "output_type": "execute_result",
          "data": {
            "text/plain": [
              "dtype('O')"
            ]
          },
          "metadata": {
            "tags": []
          },
          "execution_count": 83
        }
      ]
    },
    {
      "cell_type": "code",
      "metadata": {
        "id": "uwGNWi3ecDPI"
      },
      "source": [
        "df.index = pd.to_datetime(df.index, utc=True)"
      ],
      "execution_count": 84,
      "outputs": []
    },
    {
      "cell_type": "markdown",
      "metadata": {
        "id": "KABWENhlcDPI"
      },
      "source": [
        "We will resample our dataset and include only the required columns for our analysis."
      ]
    },
    {
      "cell_type": "code",
      "metadata": {
        "colab": {
          "base_uri": "https://localhost:8080/",
          "height": 234
        },
        "id": "cdHrNX8WcDPI",
        "outputId": "a825b169-9f77-4cfb-db1d-8e9ff972b770"
      },
      "source": [
        "data_cols = ['Apparent Temperature (C)', 'Humidity']\n",
        "\n",
        "df_monthly_avg = df[data_cols].resample('MS').mean()\n",
        "df_monthly_avg.head()"
      ],
      "execution_count": 85,
      "outputs": [
        {
          "output_type": "execute_result",
          "data": {
            "text/html": [
              "<div>\n",
              "<style scoped>\n",
              "    .dataframe tbody tr th:only-of-type {\n",
              "        vertical-align: middle;\n",
              "    }\n",
              "\n",
              "    .dataframe tbody tr th {\n",
              "        vertical-align: top;\n",
              "    }\n",
              "\n",
              "    .dataframe thead th {\n",
              "        text-align: right;\n",
              "    }\n",
              "</style>\n",
              "<table border=\"1\" class=\"dataframe\">\n",
              "  <thead>\n",
              "    <tr style=\"text-align: right;\">\n",
              "      <th></th>\n",
              "      <th>Apparent Temperature (C)</th>\n",
              "      <th>Humidity</th>\n",
              "    </tr>\n",
              "    <tr>\n",
              "      <th>Formatted Date</th>\n",
              "      <th></th>\n",
              "      <th></th>\n",
              "    </tr>\n",
              "  </thead>\n",
              "  <tbody>\n",
              "    <tr>\n",
              "      <th>2005-12-01 00:00:00+00:00</th>\n",
              "      <td>-4.050000</td>\n",
              "      <td>0.890000</td>\n",
              "    </tr>\n",
              "    <tr>\n",
              "      <th>2006-01-01 00:00:00+00:00</th>\n",
              "      <td>-4.173708</td>\n",
              "      <td>0.834610</td>\n",
              "    </tr>\n",
              "    <tr>\n",
              "      <th>2006-02-01 00:00:00+00:00</th>\n",
              "      <td>-2.990716</td>\n",
              "      <td>0.843467</td>\n",
              "    </tr>\n",
              "    <tr>\n",
              "      <th>2006-03-01 00:00:00+00:00</th>\n",
              "      <td>1.969780</td>\n",
              "      <td>0.778737</td>\n",
              "    </tr>\n",
              "    <tr>\n",
              "      <th>2006-04-01 00:00:00+00:00</th>\n",
              "      <td>12.098827</td>\n",
              "      <td>0.728625</td>\n",
              "    </tr>\n",
              "  </tbody>\n",
              "</table>\n",
              "</div>"
            ],
            "text/plain": [
              "                           Apparent Temperature (C)  Humidity\n",
              "Formatted Date                                               \n",
              "2005-12-01 00:00:00+00:00                 -4.050000  0.890000\n",
              "2006-01-01 00:00:00+00:00                 -4.173708  0.834610\n",
              "2006-02-01 00:00:00+00:00                 -2.990716  0.843467\n",
              "2006-03-01 00:00:00+00:00                  1.969780  0.778737\n",
              "2006-04-01 00:00:00+00:00                 12.098827  0.728625"
            ]
          },
          "metadata": {
            "tags": []
          },
          "execution_count": 85
        }
      ]
    },
    {
      "cell_type": "markdown",
      "metadata": {
        "id": "1NCYvxwIcDPJ"
      },
      "source": [
        "Here we've plotted the yearly variation in Apparent Temperature (C) and Humidity over the 10 year period starting from 2006 to 2016."
      ]
    },
    {
      "cell_type": "code",
      "metadata": {
        "colab": {
          "base_uri": "https://localhost:8080/",
          "height": 390
        },
        "id": "VK1gKlM3cDPJ",
        "outputId": "66d2a97c-ba2e-4f9b-d0c4-a47f38c3498c"
      },
      "source": [
        "import matplotlib.dates as dts\n",
        "\n",
        "fig, ax = plt.subplots(figsize=(14, 6))\n",
        "ax.plot(df_monthly_avg['Apparent Temperature (C)'], '-', label='Apparent Temperature (C)')\n",
        "ax.plot(df_monthly_avg['Humidity'], '--', label='Humidity')\n",
        "ax.set_title('Yearly variation in Apparent Temperature (C) and Humidity')\n",
        "ax.xaxis.set_major_locator(dts.YearLocator())\n",
        "ax.legend(loc='best', frameon=True, shadow=True)\n",
        "plt.show()"
      ],
      "execution_count": 86,
      "outputs": [
        {
          "output_type": "display_data",
          "data": {
            "image/png": "[encoded data removed]",
            "text/plain": [
              "<Figure size 1008x432 with 1 Axes>"
            ]
          },
          "metadata": {
            "tags": [],
            "needs_background": "light"
          }
        }
      ]
    },
    {
      "cell_type": "markdown",
      "metadata": {
        "id": "dlkPFbE_cDPJ"
      },
      "source": [
        "As we can see that both the peaks and the troughs in the graph are almost same throughout the 10 year period."
      ]
    },
    {
      "cell_type": "code",
      "metadata": {
        "colab": {
          "base_uri": "https://localhost:8080/",
          "height": 234
        },
        "id": "lD2lRojWcDPJ",
        "outputId": "c0b899a2-b5fa-49cb-adf5-585598dbdb3c"
      },
      "source": [
        "data = df_monthly_avg[df_monthly_avg.index.month==4]\n",
        "data.head()"
      ],
      "execution_count": 87,
      "outputs": [
        {
          "output_type": "execute_result",
          "data": {
            "text/html": [
              "<div>\n",
              "<style scoped>\n",
              "    .dataframe tbody tr th:only-of-type {\n",
              "        vertical-align: middle;\n",
              "    }\n",
              "\n",
              "    .dataframe tbody tr th {\n",
              "        vertical-align: top;\n",
              "    }\n",
              "\n",
              "    .dataframe thead th {\n",
              "        text-align: right;\n",
              "    }\n",
              "</style>\n",
              "<table border=\"1\" class=\"dataframe\">\n",
              "  <thead>\n",
              "    <tr style=\"text-align: right;\">\n",
              "      <th></th>\n",
              "      <th>Apparent Temperature (C)</th>\n",
              "      <th>Humidity</th>\n",
              "    </tr>\n",
              "    <tr>\n",
              "      <th>Formatted Date</th>\n",
              "      <th></th>\n",
              "      <th></th>\n",
              "    </tr>\n",
              "  </thead>\n",
              "  <tbody>\n",
              "    <tr>\n",
              "      <th>2006-04-01 00:00:00+00:00</th>\n",
              "      <td>12.098827</td>\n",
              "      <td>0.728625</td>\n",
              "    </tr>\n",
              "    <tr>\n",
              "      <th>2007-04-01 00:00:00+00:00</th>\n",
              "      <td>11.894421</td>\n",
              "      <td>0.536361</td>\n",
              "    </tr>\n",
              "    <tr>\n",
              "      <th>2008-04-01 00:00:00+00:00</th>\n",
              "      <td>11.183688</td>\n",
              "      <td>0.693194</td>\n",
              "    </tr>\n",
              "    <tr>\n",
              "      <th>2009-04-01 00:00:00+00:00</th>\n",
              "      <td>14.267076</td>\n",
              "      <td>0.567847</td>\n",
              "    </tr>\n",
              "    <tr>\n",
              "      <th>2010-04-01 00:00:00+00:00</th>\n",
              "      <td>11.639406</td>\n",
              "      <td>0.706875</td>\n",
              "    </tr>\n",
              "  </tbody>\n",
              "</table>\n",
              "</div>"
            ],
            "text/plain": [
              "                           Apparent Temperature (C)  Humidity\n",
              "Formatted Date                                               \n",
              "2006-04-01 00:00:00+00:00                 12.098827  0.728625\n",
              "2007-04-01 00:00:00+00:00                 11.894421  0.536361\n",
              "2008-04-01 00:00:00+00:00                 11.183688  0.693194\n",
              "2009-04-01 00:00:00+00:00                 14.267076  0.567847\n",
              "2010-04-01 00:00:00+00:00                 11.639406  0.706875"
            ]
          },
          "metadata": {
            "tags": []
          },
          "execution_count": 87
        }
      ]
    },
    {
      "cell_type": "markdown",
      "metadata": {
        "id": "P-7kJK_hcDPK"
      },
      "source": [
        "Here is a plot that shows the yearly variation in Apparent Temperature (C) and Humidity for the month of April over the 10 year period starting from 2006 to 2016."
      ]
    },
    {
      "cell_type": "code",
      "metadata": {
        "colab": {
          "base_uri": "https://localhost:8080/",
          "height": 336
        },
        "id": "rBEo39ggcDPK",
        "outputId": "39bdb829-4367-4b87-c9af-215ce44e66a8"
      },
      "source": [
        "fig, ax = plt.subplots(figsize=(12, 5))\n",
        "ax.plot(data['Apparent Temperature (C)'], '-o', label='Apparent Temperature (C)')\n",
        "ax.plot(data['Humidity'], '-o', label='Humidity')\n",
        "ax.set_title('Yearly variation in Apparent Temperature (C) and Humidity for the month of April')\n",
        "ax.legend(loc='best', frameon=True, shadow=True)\n",
        "plt.show()"
      ],
      "execution_count": 88,
      "outputs": [
        {
          "output_type": "display_data",
          "data": {
            "image/png": "[encoded data removed]",
            "text/plain": [
              "<Figure size 864x360 with 1 Axes>"
            ]
          },
          "metadata": {
            "tags": [],
            "needs_background": "light"
          }
        }
      ]
    },
    {
      "cell_type": "markdown",
      "metadata": {
        "id": "THMYoLh2cDPK"
      },
      "source": [
        "We can clearly see that global warming has caused an uncertain fluctuation of average Apparent Temperature over the past 10 years.\n",
        "There is a sharp rise of temperature between year 2008-2009 which again decreases in year 2009-2010.\n",
        "It is observed that the average Apparent Temperature is at its peak in year 2009 which further drops to its lowest in year 2015.\n",
        "Whereas the average Humidity has remained nearly constant over the period of time."
      ]
    },
    {
      "cell_type": "markdown",
      "metadata": {
        "id": "5vo7xCf1cDPK"
      },
      "source": [
        "## Conclusion:"
      ]
    },
    {
      "cell_type": "markdown",
      "metadata": {
        "id": "gXiSDPERcDPK"
      },
      "source": [
        "So from our analysis we can conclude that there is no such increase in the average Apparent Temperature and average Humidity \n",
        "due to global warming as mentioned in the null hypothesis."
      ]
    }
  ]
}